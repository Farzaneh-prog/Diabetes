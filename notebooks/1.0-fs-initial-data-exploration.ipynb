{
 "cells": [
  {
   "cell_type": "code",
   "execution_count": 1,
   "id": "78e452b3",
   "metadata": {},
   "outputs": [],
   "source": [
    "import pandas as pd\n",
    "import numpy as np\n",
    "import matplotlib.pyplot as plt\n",
    "from pandas.plotting import parallel_coordinates\n",
    "from sklearn import tree\n",
    "from sklearn.model_selection import train_test_split, cross_val_score, GridSearchCV,  KFold \n",
    "from sklearn.tree import DecisionTreeClassifier, export_graphviz\n",
    "from sklearn.ensemble import RandomForestClassifier\n",
    "from sklearn import neighbors\n",
    "from sklearn.neighbors import KNeighborsClassifier\n",
    "from sklearn.metrics import confusion_matrix, roc_curve, auc\n",
    "from sklearn.svm import SVC"
   ]
  },
  {
   "cell_type": "code",
   "execution_count": 2,
   "id": "55557295",
   "metadata": {},
   "outputs": [
    {
     "data": {
      "text/plain": [
       "'/home/farzaneh/DataScientist/LearnPython/Diabetes'"
      ]
     },
     "execution_count": 2,
     "metadata": {},
     "output_type": "execute_result"
    }
   ],
   "source": [
    "pwd"
   ]
  },
  {
   "cell_type": "code",
   "execution_count": 3,
   "id": "6bf753d8",
   "metadata": {},
   "outputs": [],
   "source": [
    "data = pd.read_csv('diabetes_data_upload.csv', header = 0)"
   ]
  },
  {
   "cell_type": "code",
   "execution_count": 4,
   "id": "057d1364",
   "metadata": {},
   "outputs": [],
   "source": [
    "#Shuffle data\n",
    "data = data.sample(frac=1)"
   ]
  },
  {
   "cell_type": "code",
   "execution_count": 5,
   "id": "7d6c4bbe",
   "metadata": {},
   "outputs": [],
   "source": [
    "#data.info()"
   ]
  },
  {
   "cell_type": "code",
   "execution_count": 6,
   "id": "1d0a403d",
   "metadata": {},
   "outputs": [],
   "source": [
    "#to see the whole data here\n",
    "pd.set_option(\"display.max_rows\", None, \"display.max_columns\", None)"
   ]
  },
  {
   "cell_type": "code",
   "execution_count": 7,
   "id": "3b9a83ae",
   "metadata": {},
   "outputs": [],
   "source": [
    "#print(data)"
   ]
  },
  {
   "cell_type": "markdown",
   "id": "4521872e",
   "metadata": {},
   "source": [
    "### NAN und ? prüfen"
   ]
  },
  {
   "cell_type": "code",
   "execution_count": 8,
   "id": "511cdb9a",
   "metadata": {},
   "outputs": [
    {
     "data": {
      "text/plain": [
       "Age                   0\n",
       "Gender                0\n",
       "Polyuria              0\n",
       "Polydipsia            0\n",
       "sudden weight loss    0\n",
       "weakness              0\n",
       "Polyphagia            0\n",
       "Genital thrush        0\n",
       "visual blurring       0\n",
       "Itching               0\n",
       "Irritability          0\n",
       "delayed healing       0\n",
       "partial paresis       0\n",
       "muscle stiffness      0\n",
       "Alopecia              0\n",
       "Obesity               0\n",
       "class                 0\n",
       "dtype: int64"
      ]
     },
     "execution_count": 8,
     "metadata": {},
     "output_type": "execute_result"
    }
   ],
   "source": [
    "data.isnull().values.any()\n",
    "\n",
    "#two ways to look for missing values per column \n",
    "data.isnull().sum()\n",
    "data.isna().sum()"
   ]
  },
  {
   "cell_type": "code",
   "execution_count": 9,
   "id": "60f45005",
   "metadata": {
    "scrolled": true
   },
   "outputs": [],
   "source": [
    "#data.apply(lambda row: row.astype(str).str.contains(\"NAN?\").any(), axis=1)\n",
    "#print(data.where(data == '?'))"
   ]
  },
  {
   "cell_type": "code",
   "execution_count": 10,
   "id": "14ef5aae",
   "metadata": {},
   "outputs": [],
   "source": [
    "#Q = data.where(data == '?')\n",
    "#Q.isnull().values.any()"
   ]
  },
  {
   "cell_type": "code",
   "execution_count": 11,
   "id": "19e137d2",
   "metadata": {},
   "outputs": [
    {
     "name": "stdout",
     "output_type": "stream",
     "text": [
      "Cases with Positive Diabetes: 320\n",
      "Cases with Negative Diabetes: 200\n",
      "Cases with Positive Diabetes in percent: 61.5%\n",
      "Cases with Negative Diabetes in percent: 38.46%\n"
     ]
    }
   ],
   "source": [
    "#Get the absolute number of how many instances in our data belong to class Positive\n",
    "count_positive = len(data.loc[data['class']== 'Positive'])\n",
    "print('Cases with Positive Diabetes: ' + str(count_positive))\n",
    "\n",
    "#Get the absolute number of how many instances in our data belong to class one\n",
    "count_negative = len(data.loc[data['class']== 'Negative'])\n",
    "print('Cases with Negative Diabetes: ' +str(count_negative))\n",
    "\n",
    "#Get the relative number of how many instances in our data belong to class zero\n",
    "percentage_positive = count_positive/(count_negative+count_positive)\n",
    "print('Cases with Positive Diabetes in percent: {}%'.format(round(percentage_positive,3)*100))\n",
    "\n",
    "#Get the relative number of how many instances in our data belong to class one\n",
    "percentage_negative = count_negative/(count_positive+count_negative)\n",
    "print('Cases with Negative Diabetes in percent: {}%'.format(round(percentage_negative,4)*100))\n"
   ]
  },
  {
   "cell_type": "code",
   "execution_count": 12,
   "id": "38dd6aac",
   "metadata": {},
   "outputs": [
    {
     "data": {
      "text/html": [
       "<div>\n",
       "<style scoped>\n",
       "    .dataframe tbody tr th:only-of-type {\n",
       "        vertical-align: middle;\n",
       "    }\n",
       "\n",
       "    .dataframe tbody tr th {\n",
       "        vertical-align: top;\n",
       "    }\n",
       "\n",
       "    .dataframe thead th {\n",
       "        text-align: right;\n",
       "    }\n",
       "</style>\n",
       "<table border=\"1\" class=\"dataframe\">\n",
       "  <thead>\n",
       "    <tr style=\"text-align: right;\">\n",
       "      <th></th>\n",
       "      <th>Age</th>\n",
       "      <th>Gender</th>\n",
       "      <th>Polyuria</th>\n",
       "      <th>Polydipsia</th>\n",
       "      <th>sudden weight loss</th>\n",
       "      <th>weakness</th>\n",
       "      <th>Polyphagia</th>\n",
       "      <th>Genital thrush</th>\n",
       "      <th>visual blurring</th>\n",
       "      <th>Itching</th>\n",
       "      <th>Irritability</th>\n",
       "      <th>delayed healing</th>\n",
       "      <th>partial paresis</th>\n",
       "      <th>muscle stiffness</th>\n",
       "      <th>Alopecia</th>\n",
       "      <th>Obesity</th>\n",
       "      <th>class</th>\n",
       "    </tr>\n",
       "  </thead>\n",
       "  <tbody>\n",
       "    <tr>\n",
       "      <th>477</th>\n",
       "      <td>40</td>\n",
       "      <td>Male</td>\n",
       "      <td>No</td>\n",
       "      <td>No</td>\n",
       "      <td>Yes</td>\n",
       "      <td>No</td>\n",
       "      <td>No</td>\n",
       "      <td>No</td>\n",
       "      <td>No</td>\n",
       "      <td>No</td>\n",
       "      <td>No</td>\n",
       "      <td>No</td>\n",
       "      <td>No</td>\n",
       "      <td>No</td>\n",
       "      <td>No</td>\n",
       "      <td>Yes</td>\n",
       "      <td>Negative</td>\n",
       "    </tr>\n",
       "    <tr>\n",
       "      <th>291</th>\n",
       "      <td>30</td>\n",
       "      <td>Male</td>\n",
       "      <td>No</td>\n",
       "      <td>No</td>\n",
       "      <td>No</td>\n",
       "      <td>No</td>\n",
       "      <td>No</td>\n",
       "      <td>No</td>\n",
       "      <td>No</td>\n",
       "      <td>No</td>\n",
       "      <td>No</td>\n",
       "      <td>No</td>\n",
       "      <td>No</td>\n",
       "      <td>No</td>\n",
       "      <td>No</td>\n",
       "      <td>No</td>\n",
       "      <td>Negative</td>\n",
       "    </tr>\n",
       "    <tr>\n",
       "      <th>452</th>\n",
       "      <td>38</td>\n",
       "      <td>Female</td>\n",
       "      <td>Yes</td>\n",
       "      <td>Yes</td>\n",
       "      <td>Yes</td>\n",
       "      <td>Yes</td>\n",
       "      <td>Yes</td>\n",
       "      <td>No</td>\n",
       "      <td>Yes</td>\n",
       "      <td>Yes</td>\n",
       "      <td>Yes</td>\n",
       "      <td>Yes</td>\n",
       "      <td>Yes</td>\n",
       "      <td>Yes</td>\n",
       "      <td>No</td>\n",
       "      <td>No</td>\n",
       "      <td>Positive</td>\n",
       "    </tr>\n",
       "    <tr>\n",
       "      <th>385</th>\n",
       "      <td>38</td>\n",
       "      <td>Male</td>\n",
       "      <td>Yes</td>\n",
       "      <td>No</td>\n",
       "      <td>No</td>\n",
       "      <td>No</td>\n",
       "      <td>No</td>\n",
       "      <td>Yes</td>\n",
       "      <td>No</td>\n",
       "      <td>Yes</td>\n",
       "      <td>No</td>\n",
       "      <td>No</td>\n",
       "      <td>No</td>\n",
       "      <td>Yes</td>\n",
       "      <td>No</td>\n",
       "      <td>Yes</td>\n",
       "      <td>Positive</td>\n",
       "    </tr>\n",
       "    <tr>\n",
       "      <th>475</th>\n",
       "      <td>38</td>\n",
       "      <td>Male</td>\n",
       "      <td>No</td>\n",
       "      <td>No</td>\n",
       "      <td>No</td>\n",
       "      <td>No</td>\n",
       "      <td>No</td>\n",
       "      <td>No</td>\n",
       "      <td>No</td>\n",
       "      <td>No</td>\n",
       "      <td>No</td>\n",
       "      <td>No</td>\n",
       "      <td>No</td>\n",
       "      <td>No</td>\n",
       "      <td>No</td>\n",
       "      <td>No</td>\n",
       "      <td>Negative</td>\n",
       "    </tr>\n",
       "  </tbody>\n",
       "</table>\n",
       "</div>"
      ],
      "text/plain": [
       "     Age  Gender Polyuria Polydipsia sudden weight loss weakness Polyphagia  \\\n",
       "477   40    Male       No         No                Yes       No         No   \n",
       "291   30    Male       No         No                 No       No         No   \n",
       "452   38  Female      Yes        Yes                Yes      Yes        Yes   \n",
       "385   38    Male      Yes         No                 No       No         No   \n",
       "475   38    Male       No         No                 No       No         No   \n",
       "\n",
       "    Genital thrush visual blurring Itching Irritability delayed healing  \\\n",
       "477             No              No      No           No              No   \n",
       "291             No              No      No           No              No   \n",
       "452             No             Yes     Yes          Yes             Yes   \n",
       "385            Yes              No     Yes           No              No   \n",
       "475             No              No      No           No              No   \n",
       "\n",
       "    partial paresis muscle stiffness Alopecia Obesity     class  \n",
       "477              No               No       No     Yes  Negative  \n",
       "291              No               No       No      No  Negative  \n",
       "452             Yes              Yes       No      No  Positive  \n",
       "385              No              Yes       No     Yes  Positive  \n",
       "475              No               No       No      No  Negative  "
      ]
     },
     "execution_count": 12,
     "metadata": {},
     "output_type": "execute_result"
    }
   ],
   "source": [
    "data.head()"
   ]
  },
  {
   "cell_type": "code",
   "execution_count": 13,
   "id": "5e8d7926",
   "metadata": {},
   "outputs": [],
   "source": [
    "X = data.drop(['class'], axis = 1)"
   ]
  },
  {
   "cell_type": "code",
   "execution_count": 14,
   "id": "67482678",
   "metadata": {},
   "outputs": [],
   "source": [
    "y = data['class']"
   ]
  },
  {
   "cell_type": "code",
   "execution_count": 15,
   "id": "5d781d1b",
   "metadata": {},
   "outputs": [],
   "source": [
    "X_conv = pd.get_dummies(X, drop_first=True, dtype=float)"
   ]
  },
  {
   "cell_type": "code",
   "execution_count": 16,
   "id": "18e4a392",
   "metadata": {
    "scrolled": true
   },
   "outputs": [
    {
     "data": {
      "text/html": [
       "<div>\n",
       "<style scoped>\n",
       "    .dataframe tbody tr th:only-of-type {\n",
       "        vertical-align: middle;\n",
       "    }\n",
       "\n",
       "    .dataframe tbody tr th {\n",
       "        vertical-align: top;\n",
       "    }\n",
       "\n",
       "    .dataframe thead th {\n",
       "        text-align: right;\n",
       "    }\n",
       "</style>\n",
       "<table border=\"1\" class=\"dataframe\">\n",
       "  <thead>\n",
       "    <tr style=\"text-align: right;\">\n",
       "      <th></th>\n",
       "      <th>Age</th>\n",
       "      <th>Gender_Male</th>\n",
       "      <th>Polyuria_Yes</th>\n",
       "      <th>Polydipsia_Yes</th>\n",
       "      <th>sudden weight loss_Yes</th>\n",
       "      <th>weakness_Yes</th>\n",
       "      <th>Polyphagia_Yes</th>\n",
       "      <th>Genital thrush_Yes</th>\n",
       "      <th>visual blurring_Yes</th>\n",
       "      <th>Itching_Yes</th>\n",
       "      <th>Irritability_Yes</th>\n",
       "      <th>delayed healing_Yes</th>\n",
       "      <th>partial paresis_Yes</th>\n",
       "      <th>muscle stiffness_Yes</th>\n",
       "      <th>Alopecia_Yes</th>\n",
       "      <th>Obesity_Yes</th>\n",
       "    </tr>\n",
       "  </thead>\n",
       "  <tbody>\n",
       "    <tr>\n",
       "      <th>477</th>\n",
       "      <td>40</td>\n",
       "      <td>1.0</td>\n",
       "      <td>0.0</td>\n",
       "      <td>0.0</td>\n",
       "      <td>1.0</td>\n",
       "      <td>0.0</td>\n",
       "      <td>0.0</td>\n",
       "      <td>0.0</td>\n",
       "      <td>0.0</td>\n",
       "      <td>0.0</td>\n",
       "      <td>0.0</td>\n",
       "      <td>0.0</td>\n",
       "      <td>0.0</td>\n",
       "      <td>0.0</td>\n",
       "      <td>0.0</td>\n",
       "      <td>1.0</td>\n",
       "    </tr>\n",
       "    <tr>\n",
       "      <th>291</th>\n",
       "      <td>30</td>\n",
       "      <td>1.0</td>\n",
       "      <td>0.0</td>\n",
       "      <td>0.0</td>\n",
       "      <td>0.0</td>\n",
       "      <td>0.0</td>\n",
       "      <td>0.0</td>\n",
       "      <td>0.0</td>\n",
       "      <td>0.0</td>\n",
       "      <td>0.0</td>\n",
       "      <td>0.0</td>\n",
       "      <td>0.0</td>\n",
       "      <td>0.0</td>\n",
       "      <td>0.0</td>\n",
       "      <td>0.0</td>\n",
       "      <td>0.0</td>\n",
       "    </tr>\n",
       "    <tr>\n",
       "      <th>452</th>\n",
       "      <td>38</td>\n",
       "      <td>0.0</td>\n",
       "      <td>1.0</td>\n",
       "      <td>1.0</td>\n",
       "      <td>1.0</td>\n",
       "      <td>1.0</td>\n",
       "      <td>1.0</td>\n",
       "      <td>0.0</td>\n",
       "      <td>1.0</td>\n",
       "      <td>1.0</td>\n",
       "      <td>1.0</td>\n",
       "      <td>1.0</td>\n",
       "      <td>1.0</td>\n",
       "      <td>1.0</td>\n",
       "      <td>0.0</td>\n",
       "      <td>0.0</td>\n",
       "    </tr>\n",
       "    <tr>\n",
       "      <th>385</th>\n",
       "      <td>38</td>\n",
       "      <td>1.0</td>\n",
       "      <td>1.0</td>\n",
       "      <td>0.0</td>\n",
       "      <td>0.0</td>\n",
       "      <td>0.0</td>\n",
       "      <td>0.0</td>\n",
       "      <td>1.0</td>\n",
       "      <td>0.0</td>\n",
       "      <td>1.0</td>\n",
       "      <td>0.0</td>\n",
       "      <td>0.0</td>\n",
       "      <td>0.0</td>\n",
       "      <td>1.0</td>\n",
       "      <td>0.0</td>\n",
       "      <td>1.0</td>\n",
       "    </tr>\n",
       "    <tr>\n",
       "      <th>475</th>\n",
       "      <td>38</td>\n",
       "      <td>1.0</td>\n",
       "      <td>0.0</td>\n",
       "      <td>0.0</td>\n",
       "      <td>0.0</td>\n",
       "      <td>0.0</td>\n",
       "      <td>0.0</td>\n",
       "      <td>0.0</td>\n",
       "      <td>0.0</td>\n",
       "      <td>0.0</td>\n",
       "      <td>0.0</td>\n",
       "      <td>0.0</td>\n",
       "      <td>0.0</td>\n",
       "      <td>0.0</td>\n",
       "      <td>0.0</td>\n",
       "      <td>0.0</td>\n",
       "    </tr>\n",
       "  </tbody>\n",
       "</table>\n",
       "</div>"
      ],
      "text/plain": [
       "     Age  Gender_Male  Polyuria_Yes  Polydipsia_Yes  sudden weight loss_Yes  \\\n",
       "477   40          1.0           0.0             0.0                     1.0   \n",
       "291   30          1.0           0.0             0.0                     0.0   \n",
       "452   38          0.0           1.0             1.0                     1.0   \n",
       "385   38          1.0           1.0             0.0                     0.0   \n",
       "475   38          1.0           0.0             0.0                     0.0   \n",
       "\n",
       "     weakness_Yes  Polyphagia_Yes  Genital thrush_Yes  visual blurring_Yes  \\\n",
       "477           0.0             0.0                 0.0                  0.0   \n",
       "291           0.0             0.0                 0.0                  0.0   \n",
       "452           1.0             1.0                 0.0                  1.0   \n",
       "385           0.0             0.0                 1.0                  0.0   \n",
       "475           0.0             0.0                 0.0                  0.0   \n",
       "\n",
       "     Itching_Yes  Irritability_Yes  delayed healing_Yes  partial paresis_Yes  \\\n",
       "477          0.0               0.0                  0.0                  0.0   \n",
       "291          0.0               0.0                  0.0                  0.0   \n",
       "452          1.0               1.0                  1.0                  1.0   \n",
       "385          1.0               0.0                  0.0                  0.0   \n",
       "475          0.0               0.0                  0.0                  0.0   \n",
       "\n",
       "     muscle stiffness_Yes  Alopecia_Yes  Obesity_Yes  \n",
       "477                   0.0           0.0          1.0  \n",
       "291                   0.0           0.0          0.0  \n",
       "452                   1.0           0.0          0.0  \n",
       "385                   1.0           0.0          1.0  \n",
       "475                   0.0           0.0          0.0  "
      ]
     },
     "execution_count": 16,
     "metadata": {},
     "output_type": "execute_result"
    }
   ],
   "source": [
    "X_conv.head()"
   ]
  },
  {
   "cell_type": "code",
   "execution_count": 17,
   "id": "770af3e5",
   "metadata": {},
   "outputs": [],
   "source": [
    "X_train, X_test, y_train, y_test = train_test_split(X_conv, y, test_size=0.2, random_state=14)"
   ]
  },
  {
   "cell_type": "markdown",
   "id": "21ee9703",
   "metadata": {},
   "source": [
    "### Entscheidungsbaum"
   ]
  },
  {
   "cell_type": "code",
   "execution_count": 18,
   "id": "3b1ba11b",
   "metadata": {},
   "outputs": [],
   "source": [
    "tree_clf = DecisionTreeClassifier(criterion='entropy',max_depth=5, random_state=14)"
   ]
  },
  {
   "cell_type": "code",
   "execution_count": 19,
   "id": "e7db229b",
   "metadata": {},
   "outputs": [
    {
     "data": {
      "text/plain": [
       "DecisionTreeClassifier(criterion='entropy', max_depth=5, random_state=14)"
      ]
     },
     "execution_count": 19,
     "metadata": {},
     "output_type": "execute_result"
    }
   ],
   "source": [
    "tree_clf.fit(X_train,y_train)"
   ]
  },
  {
   "cell_type": "code",
   "execution_count": 20,
   "id": "190754f0",
   "metadata": {},
   "outputs": [
    {
     "data": {
      "text/plain": [
       "array([0.02710789, 0.1253157 , 0.44922228, 0.10888016, 0.        ,\n",
       "       0.01417308, 0.        , 0.01634349, 0.        , 0.03356574,\n",
       "       0.04766259, 0.05309767, 0.        , 0.03032479, 0.09430662,\n",
       "       0.        ])"
      ]
     },
     "execution_count": 20,
     "metadata": {},
     "output_type": "execute_result"
    }
   ],
   "source": [
    "#Shows importances of the attributes according to our model \n",
    "tree_clf.feature_importances_"
   ]
  },
  {
   "cell_type": "code",
   "execution_count": 21,
   "id": "9893e03c",
   "metadata": {},
   "outputs": [
    {
     "name": "stdout",
     "output_type": "stream",
     "text": [
      "Decision Tree scores with 96.15% accuracy\n"
     ]
    }
   ],
   "source": [
    "score = tree_clf.score(X_test,y_test)\n",
    "print('Decision Tree scores with {}% accuracy'.format(round(score,4)*100))"
   ]
  },
  {
   "cell_type": "code",
   "execution_count": 22,
   "id": "ca309c99",
   "metadata": {},
   "outputs": [],
   "source": [
    "#tree.plot_tree(tree_clf)"
   ]
  },
  {
   "cell_type": "code",
   "execution_count": 23,
   "id": "ce1d489b",
   "metadata": {},
   "outputs": [],
   "source": [
    "#man soll hier mit dem class_names aufpassen, das Programm versteht selber nicht in welche reinfolge gegeben werden soll"
   ]
  },
  {
   "cell_type": "code",
   "execution_count": 24,
   "id": "9ff61c3b",
   "metadata": {},
   "outputs": [],
   "source": [
    "export_graphviz(tree_clf,out_file=(\"Diabetes_tree.dot\"), feature_names=X_conv.columns[:],class_names=(['Diabetes Negative','Diabetes Positive']), rounded=True, filled=True)"
   ]
  },
  {
   "cell_type": "code",
   "execution_count": 25,
   "id": "2a5d5e80",
   "metadata": {},
   "outputs": [],
   "source": [
    "!dot -Tpng Diabetes_tree.dot -o Diabetes_tree.png"
   ]
  },
  {
   "cell_type": "code",
   "execution_count": 26,
   "id": "5a8946fa",
   "metadata": {},
   "outputs": [],
   "source": [
    "!dot -Tps Diabetes_tree.dot -o Diabetes_tree.ps"
   ]
  },
  {
   "cell_type": "markdown",
   "id": "63cf7ff2",
   "metadata": {},
   "source": [
    "### Entscheidungsbaum Optimieren"
   ]
  },
  {
   "cell_type": "code",
   "execution_count": 27,
   "id": "92df6dfe",
   "metadata": {},
   "outputs": [
    {
     "name": "stdout",
     "output_type": "stream",
     "text": [
      "{'criterion': 'gini', 'max_depth': 5, 'min_samples_split': 2}\n",
      "Accuracy of Decision Tree with best parameters is 93.27% \n"
     ]
    }
   ],
   "source": [
    "#tree parameters which shall be tested to optimize hyperparameters\n",
    "tree_para = {'criterion':['gini','entropy'],'max_depth':[i for i in range(1,6)], 'min_samples_split':[i for i in range (2,20)]}\n",
    "\n",
    "#GridSearchCV object\n",
    "grd_clf = GridSearchCV(tree_clf, tree_para, cv=5)\n",
    "\n",
    "#creates differnt trees with all the differnet parameters out of our data\n",
    "grd_clf.fit(X_train,y_train)\n",
    "\n",
    "#best paramters that were found\n",
    "best_parameters = grd_clf.best_params_  \n",
    "print(best_parameters)  \n",
    "\n",
    "#new tree object with best parameters\n",
    "model_with_best_tree_parameters = grd_clf.best_estimator_\n",
    "\n",
    "#k_fold object to optimize the accuracy measurement\n",
    "k_fold = KFold(n_splits=5, shuffle=True, random_state=0)\n",
    "\n",
    "#scores reached with different splits of training/test data \n",
    "k_fold_scores = cross_val_score(model_with_best_tree_parameters, X_conv, y, cv=k_fold, n_jobs=1)\n",
    "\n",
    "#arithmetic mean of accuracy scores \n",
    "mean_accuracy_best_parameters_tree = np.mean(k_fold_scores)\n",
    "\n",
    "print('Accuracy of Decision Tree with best parameters is {}% '.format(round(mean_accuracy_best_parameters_tree, 4)*100))"
   ]
  },
  {
   "cell_type": "markdown",
   "id": "c236b0d1",
   "metadata": {},
   "source": [
    "### Random Forest"
   ]
  },
  {
   "cell_type": "code",
   "execution_count": 28,
   "id": "fd0b0bab",
   "metadata": {},
   "outputs": [
    {
     "name": "stdout",
     "output_type": "stream",
     "text": [
      "Random Forest Classifier scores with 93.30000000000001% accuracy\n"
     ]
    }
   ],
   "source": [
    "RForest_clf = RandomForestClassifier(n_estimators=10, max_depth=3, random_state=0)\n",
    "RForest_clf.fit(X_train,y_train)\n",
    "RForest_clf_score = RForest_clf.score(X_test,y_test)\n",
    "print('Random Forest Classifier scores with {}% accuracy'.format(round(RForest_clf_score,3)*100))"
   ]
  },
  {
   "cell_type": "markdown",
   "id": "49c05ceb",
   "metadata": {},
   "source": [
    "### Random Forest Optimieren"
   ]
  },
  {
   "cell_type": "code",
   "execution_count": 29,
   "id": "b7781ac6",
   "metadata": {},
   "outputs": [
    {
     "name": "stdout",
     "output_type": "stream",
     "text": [
      "{'criterion': 'gini', 'max_depth': 5, 'min_samples_split': 6, 'n_estimators': 10}\n",
      "Accuracy of Random Forest with best parameters is 93.27% \n"
     ]
    }
   ],
   "source": [
    "#tree parameters which shall be tested to optimize hyperparameters\n",
    "forest_para = {'criterion':['gini','entropy'],'n_estimators':[3, 10, 30],'max_depth':[i for i in range(1,6)], 'min_samples_split':[i for i in range (2,10)]}\n",
    "\n",
    "#GridSearchCV object\n",
    "forest_grd_clf = GridSearchCV(RForest_clf, forest_para, cv=5) \n",
    "\n",
    "#creates differnt trees with all the differnet parameters out of our data\n",
    "forest_grd_clf.fit(X_train,y_train)\n",
    "\n",
    "#best paramters that were found\n",
    "RF_best_parameters = forest_grd_clf.best_params_  \n",
    "print(RF_best_parameters)  \n",
    "\n",
    "#new tree object with best parameters\n",
    "RF_model_with_best_tree_parameters = forest_grd_clf.best_estimator_\n",
    "\n",
    "#k_fold object to optimize the accuracy measurement\n",
    "RF_k_fold = KFold(n_splits=5, shuffle=True, random_state=0)\n",
    "\n",
    "#scores reached with different splits of training/test data \n",
    "RF_k_fold_scores = cross_val_score(RF_model_with_best_tree_parameters, X_conv, y, cv=RF_k_fold, n_jobs=1)\n",
    "\n",
    "#arithmetic mean of accuracy scores \n",
    "mean_accuracy_best_parameters_tree = np.mean(RF_k_fold_scores)\n",
    "\n",
    "print('Accuracy of Random Forest with best parameters is {}% '.format(round(mean_accuracy_best_parameters_tree, 4)*100))"
   ]
  },
  {
   "cell_type": "markdown",
   "id": "f8f839ab",
   "metadata": {},
   "source": [
    "### KNN classifier"
   ]
  },
  {
   "cell_type": "code",
   "execution_count": 30,
   "id": "40958b31",
   "metadata": {},
   "outputs": [
    {
     "name": "stdout",
     "output_type": "stream",
     "text": [
      "Accuracy K neighbors classifier is 89.42% \n"
     ]
    }
   ],
   "source": [
    "KNN_clf = neighbors.KNeighborsClassifier(n_neighbors = 4, weights='distance', algorithm='auto',leaf_size=2, p=2, metric='minkowski')\n",
    "KNN_clf.fit(X_train,y_train)\n",
    "#man könnte hier auch auf (X_conv,y) trainieren mit dem Optimale Hyperparameter von unten aber dann die Ergebnisse nicht mehr für Test oder ROC benutzt werden kann\n",
    "KNN_y_pred = KNN_clf.predict(X_test)\n",
    "confusion_matrix(y_test, KNN_y_pred)\n",
    "accuracy_KNN = KNN_clf.score(X_test, y_test)\n",
    "print('Accuracy K neighbors classifier is {}% '.format(round(accuracy_KNN,4)*100))"
   ]
  },
  {
   "cell_type": "markdown",
   "id": "9db28014",
   "metadata": {},
   "source": [
    "### KNN Classifier Optimieren"
   ]
  },
  {
   "cell_type": "code",
   "execution_count": 31,
   "id": "2f3b81a8",
   "metadata": {},
   "outputs": [
    {
     "name": "stdout",
     "output_type": "stream",
     "text": [
      "{'leaf_size': 2, 'n_neighbors': 4, 'weights': 'distance'}\n",
      "Accuracy of KNN with best parameters is 91.14999999999999% \n"
     ]
    }
   ],
   "source": [
    "#KNN parameters which shall be tested to optimize hyperparameters\n",
    "KNN_para = {'n_neighbors':[i for i in range(2,10)],'weights':['uniform','distance'],'leaf_size':[i for i in range(2,30)]}\n",
    "\n",
    "#GridSearchCV object\n",
    "KNN_grd_clf = GridSearchCV(KNN_clf, KNN_para, cv=5) \n",
    "\n",
    "#creates differnt classifiers with all the differnet parameters out of our data\n",
    "KNN_grd_clf.fit(X_train,y_train)\n",
    "#man könnte hier auch auf (X_conv,y) trainieren um dem Optimale Hyperparameter zu finden und den gerechnete Accuranz hier ist das richtige Accuranz\n",
    "\n",
    "#best paramters that were found\n",
    "KNN_best_parameters = KNN_grd_clf.best_params_  \n",
    "print(KNN_best_parameters)  \n",
    "\n",
    "#new tree object with best parameters\n",
    "KNN_model_with_best_parameters = KNN_grd_clf.best_estimator_\n",
    "\n",
    "#k_fold object to optimize the accuracy measurement\n",
    "KNN_k_fold = KFold(n_splits=5, shuffle=True, random_state=0)\n",
    "\n",
    "#scores reached with different splits of training/test data \n",
    "KNN_k_fold_scores = cross_val_score(KNN_model_with_best_parameters, X_conv, y, cv=KNN_k_fold, n_jobs=1)\n",
    "\n",
    "#arithmetic mean of accuracy scores \n",
    "mean_accuracy_best_parameters_tree = np.mean(KNN_k_fold_scores)\n",
    "\n",
    "print('Accuracy of KNN with best parameters is {}% '.format(round(mean_accuracy_best_parameters_tree, 4)*100))"
   ]
  },
  {
   "cell_type": "markdown",
   "id": "acfc375f",
   "metadata": {},
   "source": [
    "### Support Vector Machine"
   ]
  },
  {
   "cell_type": "code",
   "execution_count": 32,
   "id": "a24b7012",
   "metadata": {},
   "outputs": [
    {
     "data": {
      "text/plain": [
       "SVC(C=0.1, gamma='auto', kernel='poly', probability=True)"
      ]
     },
     "execution_count": 32,
     "metadata": {},
     "output_type": "execute_result"
    }
   ],
   "source": [
    "# instantiate SVC object. Probability parameter needed for ROC-Curve in the next step\n",
    "#s = SVC(probability = True)\n",
    "\n",
    "# define parameters for the GridSearchCV: try differnet kernels, different C values and for 'poly','sigmoid' and 'rbf'kernels different gamma vlaues\n",
    "#parameters = {'kernel':('linear', 'poly','sigmoid','rbf'), 'C':[0.1, 0.3, 0.5, 0.7, 0.9, 1.0, 1.3, 1.5, 1.7, 2.0],'gamma': (1,2,3,'auto')}\n",
    "\n",
    "# instantiate GridSearchCV object with its parameters \n",
    "#SVM_clf = GridSearchCV(s, parameters, cv=5)\n",
    "SVM_clf = SVC(kernel='poly', probability = True, C = 0.1, gamma='auto')\n",
    "\n",
    "# train models\n",
    "SVM_clf.fit(X_train, y_train)\n",
    "\n",
    "# check average scores of models\n",
    "#print(\"accuracy:\"+str(np.average(cross_val_score(SVM_clf, X_train, y_train, scoring='accuracy', cv=5))))\n",
    "#print(\"f1:\"+str(np.average(cross_val_score(SVM_clf, X_train, y_train, scoring='f1', cv=5))))\n",
    "\n",
    "#check which model performed best \n",
    "#SVM_clf.best_params_\n",
    "# {'C': 0.1, 'gamma': 'auto', 'kernel': 'poly'}"
   ]
  },
  {
   "cell_type": "code",
   "execution_count": 33,
   "id": "50c478f8",
   "metadata": {},
   "outputs": [],
   "source": [
    "#new tree object with best parameters\n",
    "#SVM_model_with_best_parameters = SVM_clf.best_estimator_\n",
    "\n",
    "#k_fold object to optimize the accuracy measurement\n",
    "#SVM_k_fold = KFold(n_splits=5, shuffle=True, random_state=0)\n",
    "\n",
    "#scores reached with different splits of training/test data \n",
    "#SVM_k_fold_scores = cross_val_score(SVM_model_with_best_parameters, X_conv, y, cv=SVM_k_fold, scoring='accuracy', n_jobs=1)\n",
    "\n",
    "#arithmetic mean of accuracy scores \n",
    "#mean_accuracy_best_parameters_tree = np.mean(SVM_k_fold_scores)\n",
    "\n",
    "#print('Accuracy of SVM with best parameters is {}% '.format(round(mean_accuracy_best_parameters_tree, 4)*100))"
   ]
  },
  {
   "cell_type": "code",
   "execution_count": 34,
   "id": "1fd5718f",
   "metadata": {},
   "outputs": [],
   "source": [
    "# instantiate new objct with best parameters for our data\n",
    "best_params_svm = SVC(kernel='poly', probability = True, C = 0.1, gamma='auto')\n",
    "\n",
    "# get predictions\n",
    "SVM_y_pred = SVM_clf.predict(X_test)"
   ]
  },
  {
   "cell_type": "code",
   "execution_count": 35,
   "id": "4e19c3fc",
   "metadata": {},
   "outputs": [
    {
     "name": "stdout",
     "output_type": "stream",
     "text": [
      "Confusion Matrix: \n",
      "[[34  0]\n",
      " [ 2 68]]\n"
     ]
    }
   ],
   "source": [
    "#confusion matrix\n",
    "Diabetes_conf_matrix = confusion_matrix(y_test, SVM_y_pred)\n",
    "print('Confusion Matrix: ')\n",
    "print(Diabetes_conf_matrix)"
   ]
  },
  {
   "cell_type": "markdown",
   "id": "28d41298",
   "metadata": {},
   "source": [
    "### ROC-Curve, AUROC "
   ]
  },
  {
   "cell_type": "code",
   "execution_count": 38,
   "id": "296917b7",
   "metadata": {},
   "outputs": [
    {
     "name": "stdout",
     "output_type": "stream",
     "text": [
      "SVM AUROC = 0.9890756302521009 ;KNN AUROC = 0.9577731092436974 ;Random Forest AUROC = 0.9953781512605042 ;Decision Tree AUROC = 0.9867647058823529\n"
     ]
    },
    {
     "data": {
      "image/png": "[encoded data removed]",
      "text/plain": [
       "<Figure size 864x864 with 1 Axes>"
      ]
     },
     "metadata": {
      "needs_background": "light"
     },
     "output_type": "display_data"
    }
   ],
   "source": [
    "# get probabilities of class membership of test instances\n",
    "SVM_probs = SVM_clf.predict_proba(X_test)\n",
    "KNN_probs = KNN_grd_clf.predict_proba(X_test)\n",
    "RForest_probs = forest_grd_clf.predict_proba(X_test)\n",
    "DT_probs = grd_clf.predict_proba(X_test)\n",
    "\n",
    "#get col with positive probabilities\n",
    "y_pred_proba = SVM_probs[:,1]\n",
    "y_pred_KNN = KNN_probs[:,1]\n",
    "y_pred_RForest = RForest_probs[:,1]\n",
    "y_pred_DT = DT_probs[:,1]\n",
    "\n",
    "# set y_test positive to 1 and negative to 0 \n",
    "y_conv = pd.get_dummies(y_test, drop_first=True, dtype=float)\n",
    "\n",
    "# get false positive rate, true positive rate and threshold values\n",
    "fpr, tpr, threshold = roc_curve(y_conv, y_pred_proba, pos_label=1)\n",
    "KNN_fpr, KNN_tpr, KNN_threshold = roc_curve(y_conv, y_pred_KNN, pos_label=1)\n",
    "RF_fpr, RF_tpr, RF_threshold = roc_curve(y_conv, y_pred_RForest, pos_label=1)\n",
    "DT_fpr, DT_tpr, DT_threshold = roc_curve(y_conv, y_pred_DT, pos_label=1)\n",
    "\n",
    "# Compute Area Under the Curve (AUC) using the trapezoidal rule\n",
    "roc_auc = auc(fpr, tpr)\n",
    "KNN_roc_auc = auc(KNN_fpr, KNN_tpr)\n",
    "RF_roc_auc = auc(RF_fpr, RF_tpr)\n",
    "DT_roc_auc = auc(DT_fpr, DT_tpr)\n",
    "print('SVM AUROC =',roc_auc, ';KNN AUROC =',KNN_roc_auc, ';Random Forest AUROC =',RF_roc_auc, ';Decision Tree AUROC =',DT_roc_auc)\n",
    "\n",
    "#define figure size \n",
    "plt.figure(figsize=(12,12))\n",
    "\n",
    "#add title\n",
    "plt.title('SVM/KNN/RF/DT ROC Curve')\n",
    "\n",
    "# plot and add labels to plot\n",
    "plt.plot(fpr, tpr, 'b', label = 'Diabetes data: SVM AUC =  ' + str(round(roc_auc,4)))\n",
    "plt.plot(KNN_fpr, KNN_tpr, 'c', label = 'Diabetes data: KNN AUC =  ' + str(round(KNN_roc_auc,4)))\n",
    "plt.plot(RF_fpr, RF_tpr, 'g', label = 'Diabetes data: RF AUC =  ' + str(round(RF_roc_auc,4)))\n",
    "plt.plot(DT_fpr, DT_tpr, 'm', label = 'Diabetes data: DT AUC =  ' + str(round(DT_roc_auc,4)))\n",
    "plt.legend(loc = 'lower right')\n",
    "plt.plot([0, 1], [0, 1],'r--')\n",
    "plt.ylabel('True Positive Rate')\n",
    "plt.xlabel('False Positive Rate')\n",
    "plt.show()"
   ]
  },
  {
   "cell_type": "code",
   "execution_count": null,
   "id": "59545ba2",
   "metadata": {},
   "outputs": [],
   "source": []
  }
 ],
 "metadata": {
  "kernelspec": {
   "display_name": "Python 3",
   "language": "python",
   "name": "python3"
  },
  "language_info": {
   "codemirror_mode": {
    "name": "ipython",
    "version": 3
   },
   "file_extension": ".py",
   "mimetype": "text/x-python",
   "name": "python",
   "nbconvert_exporter": "python",
   "pygments_lexer": "ipython3",
   "version": "3.8.5"
  }
 },
 "nbformat": 4,
 "nbformat_minor": 5
}
